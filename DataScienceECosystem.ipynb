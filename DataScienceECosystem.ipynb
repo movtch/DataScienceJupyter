{
 "cells": [
  {
   "cell_type": "markdown",
   "id": "292b2ec7-cc2e-457b-978f-577f4d7454b9",
   "metadata": {},
   "source": [
    "# Data Science Tools and Ecosystem"
   ]
  },
  {
   "cell_type": "markdown",
   "id": "9da2867d-11fe-427b-930b-08da51604ffd",
   "metadata": {},
   "source": [
    "## Author\n",
    "#### Maria Spinner"
   ]
  },
  {
   "cell_type": "markdown",
   "id": "52bd9020-668c-4ff9-89d4-bbc36a56ad29",
   "metadata": {},
   "source": [
    "### In this notebook, Data Science Tools and Ecosystem are summarized."
   ]
  },
  {
   "cell_type": "markdown",
   "id": "c450a1d7-5708-4baa-99ec-e9665eb8ccd4",
   "metadata": {},
   "source": [
    "## __Objectives:__\n",
    "### - List popular languages for Data Science\n",
    "### - Describe tools used in Data Science\n",
    "### - List popular libraries used for Data Science\n",
    "### - Demonstrate ability to use basic markdown constructs\n",
    "### - Demonstrate ability to write basic Python code"
   ]
  },
  {
   "cell_type": "markdown",
   "id": "295c4fbe-ac24-4bf0-a0c9-707a3a886ab5",
   "metadata": {},
   "source": [
    "#### Some of the popular languages that Data Scientists use are:\n",
    "##### 1. Python\n",
    "##### 2. R\n",
    "##### 3. SQL"
   ]
  },
  {
   "cell_type": "markdown",
   "id": "b22738a3-71ab-42ee-9900-900e1deecea8",
   "metadata": {},
   "source": [
    "#### Some of the commonly used libraries used by Data Scientists include:\n",
    "#### 1. NumPy\n",
    "#### 2. Matplotlib\n",
    "#### 3. Scikit-learn"
   ]
  },
  {
   "cell_type": "markdown",
   "id": "d53ef24e-3549-487d-a40a-68bf689c120d",
   "metadata": {},
   "source": [
    " Data Science Tools |\n",
    " ------------------ |\n",
    " Anaconda |\n",
    " R Studio |\n",
    " Visual Studio |"
   ]
  },
  {
   "cell_type": "markdown",
   "id": "71e712ae-234f-47f4-a360-cd9cccd8127d",
   "metadata": {},
   "source": [
    "### Below are a few examples of evaluating arithmetic expressions in Python"
   ]
  },
  {
   "cell_type": "code",
   "execution_count": 2,
   "id": "d1d399dd-bbca-480e-a9a5-209292fc1296",
   "metadata": {},
   "outputs": [
    {
     "data": {
      "text/plain": [
       "17"
      ]
     },
     "execution_count": 2,
     "metadata": {},
     "output_type": "execute_result"
    }
   ],
   "source": [
    "#This is a simple arithmetic expression to multiply then add integers \n",
    "(3*4)+5"
   ]
  },
  {
   "cell_type": "code",
   "execution_count": 3,
   "id": "d7c7f64f-4817-49aa-886f-ef6adb193a80",
   "metadata": {},
   "outputs": [
    {
     "data": {
      "text/plain": [
       "3.3333333333333335"
      ]
     },
     "execution_count": 3,
     "metadata": {},
     "output_type": "execute_result"
    }
   ],
   "source": [
    "#This will convert 200 minutes to hours by dividing by 60\n",
    "200/60"
   ]
  },
  {
   "cell_type": "markdown",
   "id": "0ba4e025-0f35-4ae8-bd90-558189e250e3",
   "metadata": {},
   "source": []
  }
 ],
 "metadata": {
  "kernelspec": {
   "display_name": "Python 3 (ipykernel)",
   "language": "python",
   "name": "python3"
  },
  "language_info": {
   "codemirror_mode": {
    "name": "ipython",
    "version": 3
   },
   "file_extension": ".py",
   "mimetype": "text/x-python",
   "name": "python",
   "nbconvert_exporter": "python",
   "pygments_lexer": "ipython3",
   "version": "3.12.8"
  }
 },
 "nbformat": 4,
 "nbformat_minor": 5
}
